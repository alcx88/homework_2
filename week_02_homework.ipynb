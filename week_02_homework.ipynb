{
 "cells": [
  {
   "cell_type": "markdown",
   "metadata": {},
   "source": [
    "### Homework Week 02\n",
    "#### Loops, Functions and Classes\n",
    "1. Do this homework **in order**. \n",
    "2. Be sure to have a solid understanding of Functions before working with Classes. "
   ]
  },
  {
   "cell_type": "markdown",
   "metadata": {},
   "source": [
    "1. Iterate through `integers_list` and `print` values that are multiples of 7."
   ]
  },
  {
   "cell_type": "code",
   "execution_count": 5,
   "metadata": {},
   "outputs": [
    {
     "name": "stdout",
     "output_type": "stream",
     "text": [
      "959\n",
      "742\n",
      "574\n",
      "483\n",
      "294\n",
      "126\n",
      "350\n",
      "756\n",
      "455\n",
      "455\n"
     ]
    }
   ],
   "source": [
    "import random\n",
    "integers_list = [random.randint(0,1000) for i in range(50)] # a list comprehension\n",
    "\n",
    "for i in integers_list:\n",
    "    if i%7==0:\n",
    "        print(i)\n",
    "#I believe this only returned ten values because it randomly selects 50 integers from 1-1000.  These ten were the only ones divisible by 7. The first run produced four results.\n",
    "       \n"
   ]
  },
  {
   "cell_type": "markdown",
   "metadata": {},
   "source": [
    "2. Create `list` of 5 colors as `strings` which are all lowercase. \n",
    "Iterate through the `list` and capitalize each color. \n",
    "You should modify the `list` in place. "
   ]
  },
  {
   "cell_type": "code",
   "execution_count": 47,
   "metadata": {},
   "outputs": [
    {
     "name": "stdout",
     "output_type": "stream",
     "text": [
      "['PURPLE', 'BLUE', 'GREEN', 'YELLOW', 'ORANGE']\n"
     ]
    }
   ],
   "source": [
    "color_list = [\"purple\",\"blue\",\"green\",\"yellow\",\"orange\"]\n",
    "for value in range(len(color_list)):\n",
    "    color_list[value]=color_list[value].upper()\n",
    "print(color_list)"
   ]
  },
  {
   "cell_type": "markdown",
   "metadata": {},
   "source": [
    "3. Loop through the string and eliminate all the asterisks."
   ]
  },
  {
   "cell_type": "code",
   "execution_count": 32,
   "metadata": {},
   "outputs": [
    {
     "name": "stdout",
     "output_type": "stream",
     "text": [
      "My computer has gone crazy and added extra symbols.\n"
     ]
    }
   ],
   "source": [
    "asterisk = 'My *compu*ter has go*ne craz***y an*d add*ed extra *symbols.*'\n",
    "asterisk2 = []\n",
    "asterisk3 =\"\"\n",
    "for i in asterisk:\n",
    "    asterisk2.append(i)\n",
    "    if i=='*':\n",
    "        asterisk2.remove(i)\n",
    "for i in asterisk2:\n",
    "    asterisk3 += i\n",
    "print(asterisk3)\n",
    "   \n",
    "    "
   ]
  },
  {
   "cell_type": "markdown",
   "metadata": {},
   "source": [
    "4. Write a `while` loop that increments `counter` until it reaches 7."
   ]
  },
  {
   "cell_type": "code",
   "execution_count": 27,
   "metadata": {},
   "outputs": [
    {
     "name": "stdout",
     "output_type": "stream",
     "text": [
      "0\n",
      "1\n",
      "2\n",
      "3\n",
      "4\n",
      "5\n",
      "6\n",
      "7\n"
     ]
    }
   ],
   "source": [
    "counter = 0\n",
    "\n",
    "while counter<=7:\n",
    "    print(counter)\n",
    "    counter +=1"
   ]
  },
  {
   "cell_type": "markdown",
   "metadata": {},
   "source": [
    "5. Loop over `double_trouble` and eliminate any 'mosquito'."
   ]
  },
  {
   "cell_type": "code",
   "execution_count": 1,
   "metadata": {},
   "outputs": [
    {
     "name": "stdout",
     "output_type": "stream",
     "text": [
      "0 cat\n",
      "0 cat\n",
      "1 dog\n",
      "1 dog\n",
      "2 ['mouse', 'bat', 'elephant', 'dog', 'whale', 'lion', 32]\n",
      "2 ['mouse', 'bat', 'elephant', 'dog', 'whale', 'lion', 32]\n",
      "3 ['mouse', 'bat', 'elephant', 'dog', 'whale', 'lion', 32]\n",
      "3 ['mouse', 'bat', 'elephant', 'dog', 'whale', 'lion', 32]\n",
      "4 ['mouse', 'bat', 'elephant', 'dog', 'whale', 'lion', 32]\n",
      "4 ['mouse', 'bat', 'elephant', 'dog', 'whale', 'lion', 32]\n",
      "5 ['mouse', 'bat', 'elephant', 'dog', 'whale', 'lion', 32]\n",
      "5 ['mouse', 'bat', 'elephant', 'dog', 'whale', 'lion', 32]\n",
      "6 ['mouse', 'bat', 'elephant', 'dog', 'whale', 'lion', 32]\n",
      "6 ['mouse', 'bat', 'elephant', 'dog', 'whale', 'lion', 32]\n",
      "7 ['mouse', 'bat', 'elephant', 'dog', 'whale', 'lion', 32]\n",
      "7 ['mouse', 'bat', 'elephant', 'dog', 'whale', 'lion', 32]\n",
      "8 ['mouse', 'bat', 'elephant', 'dog', 'whale', 'lion', 32]\n",
      "8 ['mouse', 'bat', 'elephant', 'dog', 'whale', 'lion', 32]\n",
      "9 bird\n",
      "9 bird\n"
     ]
    }
   ],
   "source": [
    "double_trouble = ['cat', 'dog', ['mouse','mosquito','bat','mosquito'],['elephant','dog','whale','lion',32,'mosquito'],'bird',[],'mosquito']\n",
    "\n",
    "single_trouble = []\n",
    "\n",
    "triple_trouble = []\n",
    "\n",
    "quadruple_trouble =[]\n",
    "\n",
    "for i in double_trouble:\n",
    "    if type(i) == str and i != \"mosquito\":\n",
    "        single_trouble.append(i)\n",
    "    elif type(i) == list:\n",
    "        for y in i:\n",
    "            if y != \"mosquito\":\n",
    "                triple_trouble.append(y)\n",
    "                single_trouble.append(triple_trouble)   \n",
    "                           \n",
    "                \n",
    "                   \n",
    "for index, thing in enumerate(single_trouble):\n",
    "    print(index,thing)\n",
    "    print(index,thing) #I am assuming the output was supposed to be doubled as was here before I ran this code!  Double trouble!\n",
    "\n",
    "    #I struggled to figure out how to keep the list together as an element in the list.\n",
    "    "
   ]
  },
  {
   "cell_type": "markdown",
   "metadata": {},
   "source": [
    "6. Loop through the dictionary of phone numbers and correct the parentheses. "
   ]
  },
  {
   "cell_type": "code",
   "execution_count": 102,
   "metadata": {},
   "outputs": [
    {
     "name": "stdout",
     "output_type": "stream",
     "text": [
      "Jill 1(555)567-8910\n",
      "Jen 1(555)567-8910\n",
      "Jan 1(555)567-8910\n",
      "Jane 1(555)567-8910\n",
      "Jerri 1(555)567-8910\n"
     ]
    }
   ],
   "source": [
    "phone_numbers = {'Jill':'1-)555(-567-8910',\n",
    "                'Jen':'1-)555(-567-8910',\n",
    "                'Jan':'1-)555(-567-8910',\n",
    "                'Jane':'1-)555(-567-8910',\n",
    "                'Jerri':'1-)555(-567-8910'}\n",
    "#First, I removed the parentheses\n",
    "for phnum in phone_numbers.values():\n",
    "    phnum = phnum.replace(\"(\",\"\").replace(\")\",\"\")\n",
    "    \n",
    "#Now I'll put them in the right place\n",
    "for key, value in phone_numbers.items():\n",
    "    for phnum2 in phone_numbers.values():\n",
    "        phnum2 = phnum[:1] + \"(\" + phnum[2:5] + \")\" + phnum[6:14]\n",
    "    print(key, phnum2)\n",
    "            \n",
    "            \n",
    "    \n",
    "            \n",
    "    \n",
    "    "
   ]
  },
  {
   "cell_type": "markdown",
   "metadata": {},
   "source": [
    "7. Create a function that takes in two numbers.\n",
    "\n",
    "If the numbers are both even add them and `return` the result.\n",
    "\n",
    "If the numbers are odd, subtract the second number from the first and `return` the result.\n",
    "\n",
    "(Assume you'll always get integers)"
   ]
  },
  {
   "cell_type": "code",
   "execution_count": 107,
   "metadata": {},
   "outputs": [
    {
     "data": {
      "text/plain": [
       "14"
      ]
     },
     "execution_count": 107,
     "metadata": {},
     "output_type": "execute_result"
    }
   ],
   "source": [
    "def weird_func(x,y):\n",
    "    if x%2==0 and y%2==0:\n",
    "        return (x+y)\n",
    "    elif x%2!=0 and y%2!=0:\n",
    "        return (x-y)\n",
    "    else:\n",
    "        print(\"False\")\n",
    "    \n",
    "weird_func(7,5)\n",
    "weird_func(6,8)\n",
    "\n",
    "\n",
    "    "
   ]
  },
  {
   "cell_type": "markdown",
   "metadata": {},
   "source": [
    "8. Create a function that takes in a `string` and removes all non-alphanumeric characters."
   ]
  },
  {
   "cell_type": "code",
   "execution_count": 55,
   "metadata": {},
   "outputs": [
    {
     "data": {
      "text/plain": [
       "'thisstringhassomeweirdvalues02'"
      ]
     },
     "execution_count": 55,
     "metadata": {},
     "output_type": "execute_result"
    }
   ],
   "source": [
    "\n",
    "\n",
    "def cleanup_str(s):\n",
    "    silly_string = \"\"\n",
    "    for value in s:\n",
    "        if ('A' <= value <= 'Z') or ('a' <= value <= 'z') or ('0' <=value<= '9'):\n",
    "            silly_string += value\n",
    "    return silly_string\n",
    "\n",
    "s = \"this string has %^&! some weird values02\"\n",
    "cleanup_str(s)\n"
   ]
  },
  {
   "cell_type": "code",
   "execution_count": 6,
   "metadata": {},
   "outputs": [
    {
     "data": {
      "text/plain": [
       "'thisstringhassomeweirdvalues02'"
      ]
     },
     "execution_count": 6,
     "metadata": {},
     "output_type": "execute_result"
    }
   ],
   "source": [
    "character(\"this string has %^&! some weird values02\")"
   ]
  },
  {
   "cell_type": "markdown",
   "metadata": {},
   "source": [
    "9. Create a function to convert Celsius to Farenheight and print the result. \n",
    "\n",
    "Bonus(Optional): Include the degree symbol in the output."
   ]
  },
  {
   "cell_type": "code",
   "execution_count": 114,
   "metadata": {},
   "outputs": [
    {
     "name": "stdout",
     "output_type": "stream",
     "text": [
      "40.55555555555556°\n"
     ]
    }
   ],
   "source": [
    "\n",
    "def faren_conv(x):\n",
    "    y = (x-32)*5/9\n",
    "    degree_sign = \"\\u00B0\"\n",
    "    print(str(y) + degree_sign)\n",
    "    \n",
    "    \n",
    "faren_conv(105)"
   ]
  },
  {
   "cell_type": "markdown",
   "metadata": {},
   "source": [
    "10. Create a function that prints the fibonacci sequence from 0 to 25. "
   ]
  },
  {
   "cell_type": "code",
   "execution_count": 122,
   "metadata": {},
   "outputs": [
    {
     "name": "stdout",
     "output_type": "stream",
     "text": [
      "0\n",
      "1\n",
      "1\n",
      "2\n",
      "3\n",
      "5\n",
      "8\n",
      "13\n",
      "21\n",
      "34\n"
     ]
    }
   ],
   "source": [
    "x = 0\n",
    "y = 1\n",
    "\n",
    "print(x)\n",
    "print(y)\n",
    "z = x + y\n",
    "while z <= 25:\n",
    "    z = x + y\n",
    "    x = y\n",
    "    y = z\n",
    "    print(z)\n",
    "    \n",
    "   \n",
    "        "
   ]
  },
  {
   "cell_type": "markdown",
   "metadata": {},
   "source": [
    "11. Create two functions. One function that accepts args `a` and `b` and returns `a + b`. \n",
    "\n",
    "Create a second function that accepts the first function as the 3rd argument as well as a and b.\n"
   ]
  },
  {
   "cell_type": "code",
   "execution_count": 27,
   "metadata": {},
   "outputs": [
    {
     "name": "stdout",
     "output_type": "stream",
     "text": [
      "17\n"
     ]
    }
   ],
   "source": [
    "def my_function(a,b):\n",
    "    my_function = a + b\n",
    "    print(my_function)\n",
    "\n",
    "def second_function(a,b,my_function):\n",
    "    second_function = my_function(a,b)\n",
    "\n"
   ]
  },
  {
   "cell_type": "code",
   "execution_count": 28,
   "metadata": {},
   "outputs": [
    {
     "name": "stdout",
     "output_type": "stream",
     "text": [
      "17\n"
     ]
    }
   ],
   "source": [
    "second_function(12,5,my_function)"
   ]
  },
  {
   "cell_type": "markdown",
   "metadata": {},
   "source": [
    "12. Create a function that prints prime number from 0 to 100. "
   ]
  },
  {
   "cell_type": "code",
   "execution_count": 72,
   "metadata": {},
   "outputs": [
    {
     "name": "stdout",
     "output_type": "stream",
     "text": [
      "{3, 5, 7, 9, 11, 13, 15, 17, 19, 21, 23, 25, 27, 29, 31, 33, 35, 37, 39, 41, 43, 45, 47, 49, 51, 53, 55, 57, 59, 61, 63, 65, 67, 69, 71, 73, 75, 77, 79, 81, 83, 85, 87, 89, 91, 93, 95, 97, 99}\n"
     ]
    }
   ],
   "source": [
    "prime1=[]\n",
    "\n",
    "for num in range(0,100):\n",
    "    if (num>1):\n",
    "        for i in range(2,num + 1):\n",
    "            if (num%i)==0:\n",
    "                break\n",
    "            else:\n",
    "                prime1.append(num)\n",
    "                \n",
    "prime2=set(prime1)\n",
    "print(prime2)\n",
    "\n",
    "#I do not understand why numbers with 3 and 5 as factors are not being removed!  Eek!  I searched online and through everything and I don't get it!\n",
    "\n",
    "\n",
    "\n",
    "\n"
   ]
  },
  {
   "cell_type": "markdown",
   "metadata": {},
   "source": [
    "13. Now's your chance to show off. Create a function that does something that has not already been done in the homework. Get creative. "
   ]
  },
  {
   "cell_type": "code",
   "execution_count": 78,
   "metadata": {},
   "outputs": [
    {
     "name": "stdout",
     "output_type": "stream",
     "text": [
      "These are not sides of a triangle\n",
      "These are three sides of a triangle\n"
     ]
    }
   ],
   "source": [
    "#Creativity is not my strong suit!  I'll give it a go!\n",
    "\n",
    "#determining if three numbers are the sides of a triangle\n",
    "\n",
    "def side_test(f,g,h):\n",
    "    c = max(f,g,h)\n",
    "    a = min(f,g,h)\n",
    "    if f!=a and f!=c:\n",
    "        b=f\n",
    "    if g!=a and g!=c:\n",
    "        b=g\n",
    "    if h!=a and h!=c:\n",
    "        b=h\n",
    "    if (c*c)==(a*a)+(b*b):\n",
    "        print(\"These are three sides of a triangle\")\n",
    "    else:\n",
    "        print(\"These are not sides of a triangle\")\n",
    "        \n",
    "side_test(7,10,2)  \n",
    "side_test(4,5,3)\n",
    "\n",
    "\n"
   ]
  },
  {
   "cell_type": "markdown",
   "metadata": {},
   "source": [
    "14. Add an attribute called `age` to the `__init__` method of the `Person` class.\n",
    "\n",
    "Create an instance of `Person()` and print the `age`."
   ]
  },
  {
   "cell_type": "code",
   "execution_count": 115,
   "metadata": {},
   "outputs": [
    {
     "name": "stdout",
     "output_type": "stream",
     "text": [
      "35\n"
     ]
    }
   ],
   "source": [
    "class Person():\n",
    "    \n",
    "    def __init__(self, name, occupation, country, age):\n",
    "        self.name = name\n",
    "        self.occupation = occupation\n",
    "        self.country = country\n",
    "        self.age = age\n",
    "\n",
    "andreas_stats = Person('Andrea', 'Manager', 'USA', '35')\n",
    "print(andreas_stats.age)\n",
    "\n",
    "\n",
    "    "
   ]
  },
  {
   "cell_type": "markdown",
   "metadata": {},
   "source": [
    "15. Creat an instance of the class `Candy`. \n",
    "\n",
    "Add an attribute called `cost` on your instance. (Don't modify the class starter code.)\n",
    "\n",
    "Print the instance's `cost` attribute.\n",
    "\n",
    "Bonus(optional): Add a function of your choice to the instance. "
   ]
  },
  {
   "cell_type": "code",
   "execution_count": 199,
   "metadata": {},
   "outputs": [
    {
     "name": "stdout",
     "output_type": "stream",
     "text": [
      "1.25\n"
     ]
    }
   ],
   "source": [
    "class Candy():\n",
    "    \n",
    "    def __init__(self, kind='chocolate', brand= 'Nestle', caramel = False):\n",
    "        self.type = kind\n",
    "        self.brand = brand\n",
    "        self.caramel = caramel   \n",
    "        \n",
    "    def cst_att(self, cost):\n",
    "        setattr(self, cost, value)\n",
    "        \n",
    "KitKat = Candy()\n",
    "\n",
    "setattr(KitKat, \"cost\", 1.25)\n",
    "print(KitKat.cost)\n",
    "\n",
    "\n",
    "\n",
    "        "
   ]
  },
  {
   "cell_type": "code",
   "execution_count": null,
   "metadata": {},
   "outputs": [],
   "source": []
  },
  {
   "cell_type": "markdown",
   "metadata": {},
   "source": [
    "16. Add an instance method to our class `Greet` that prints a greeting including `greeting` and the `name`. \n",
    "\n",
    "Example:\n",
    "\n",
    "`jen = Greet()`\n",
    "\n",
    "`jen.greet_method()` returns `\"Hello Jennifer\"`\n"
   ]
  },
  {
   "cell_type": "code",
   "execution_count": 171,
   "metadata": {},
   "outputs": [
    {
     "data": {
      "text/plain": [
       "'Hello Jennifer'"
      ]
     },
     "execution_count": 171,
     "metadata": {},
     "output_type": "execute_result"
    }
   ],
   "source": [
    "class Greet():\n",
    "    \n",
    "    def __init__(self, name='Jennifer', language='english', greeting=\"Hello\"):\n",
    "        \n",
    "        self.language = language\n",
    "        self.greeting = greeting\n",
    "        self.name = name\n",
    "        \n",
    "    def pleasantry_method(self):\n",
    "        \n",
    "        return \"{0} {1}\".format(self.greeting, self.name)\n",
    "\n",
    "jennifer = Greet()\n",
    "jennifer.pleasantry_method()\n",
    "        "
   ]
  },
  {
   "cell_type": "markdown",
   "metadata": {},
   "source": [
    "17. Add a line to the follwing code that will increment `employee_count` by 1 for **all** instances of `Employee`.\n",
    "\n",
    "The code should run each time an new instance of`Employee` is created. \n",
    "\n",
    "Hint: You don't need methods. Just a single expression will work. And it does NOT inlcude the word `self`. "
   ]
  },
  {
   "cell_type": "code",
   "execution_count": 180,
   "metadata": {},
   "outputs": [
    {
     "name": "stdout",
     "output_type": "stream",
     "text": [
      "1\n",
      "2\n"
     ]
    }
   ],
   "source": [
    "class Employee():\n",
    "    \n",
    "    # class variables. Applies to all instances of this class during creation.\n",
    "    yearly_bonus = 1.01 # not used anywhere in this example\n",
    "    \n",
    "    employee_count = 0 # This variable will change for all instances of the class.\n",
    "    \n",
    "       \n",
    "    def __init__(self,name, age, base_pay): # creates an instance of our object with unique attributes\n",
    "        \n",
    "        self.name = name\n",
    "        self.age = age\n",
    "        self.base_pay = base_pay\n",
    "        \n",
    "        Employee.employee_count += 1\n",
    "        \n",
    "        \n",
    "emp1 = Employee('Matt', 32,40000)\n",
    "print(emp1.employee_count) # should be 1 if the __init__ method is working properly. \n",
    "\n",
    "emp2 = emp1 = Employee('Joe', 22,50000) # should be 2 if the __init__ method is working properly. \n",
    "print(emp2.employee_count)\n",
    "\n"
   ]
  },
  {
   "cell_type": "markdown",
   "metadata": {},
   "source": [
    "18 . Add a `static` method of your choice to the class below. \n",
    "\n",
    "Instaiate an object and call your method. \n",
    "\n",
    "What is a static method anyway? \n"
   ]
  },
  {
   "cell_type": "code",
   "execution_count": 204,
   "metadata": {},
   "outputs": [
    {
     "name": "stdout",
     "output_type": "stream",
     "text": [
      "Meryl Streep: This is my line...\n"
     ]
    }
   ],
   "source": [
    "#static methods don't rely on instance or class variables.  They require the class but not an object of the class to be called. Self isn't needed because they don't operate on objects.\n",
    "\n",
    "class actress():\n",
    "    def __init__(self, name = 'Meryl Streep'):\n",
    "        self.name = name\n",
    "        \n",
    "    def act(self, line):\n",
    "        print(f'{self.name}: {line}')\n",
    "        \n",
    "    @staticmethod\n",
    "    def award_announcement(winner):\n",
    "        print(\"And the Academy Award goes to...\")\n",
    "        print(winner)\n",
    "        \n",
    "        \n",
    "meryl = actress()\n",
    "meryl.act('This is my line...')\n",
    "julia_roberts = actress()\n",
    "\n"
   ]
  },
  {
   "cell_type": "code",
   "execution_count": 205,
   "metadata": {},
   "outputs": [
    {
     "name": "stdout",
     "output_type": "stream",
     "text": [
      "And the Academy Award goes to...\n",
      "Julia Roberts\n"
     ]
    }
   ],
   "source": [
    "julia_roberts.award_announcement(\"Julia Roberts\")"
   ]
  },
  {
   "cell_type": "markdown",
   "metadata": {},
   "source": [
    "19. Create a `class` called Car that accepts 3 attributes (make, model and year). \n",
    "\n",
    "In the `__init__` method give your instance those three attributes. \n",
    "\n",
    "Instantiate (create) an object that is your dream car. \n",
    "\n",
    "Print the make of your dream car using the object attributes. \n",
    "\n",
    "Then call the dir() method on your new object. (See your attrs are now included!)"
   ]
  },
  {
   "cell_type": "code",
   "execution_count": 207,
   "metadata": {},
   "outputs": [
    {
     "name": "stdout",
     "output_type": "stream",
     "text": [
      "Tesla\n"
     ]
    },
    {
     "data": {
      "text/plain": [
       "['__class__',\n",
       " '__delattr__',\n",
       " '__dict__',\n",
       " '__dir__',\n",
       " '__doc__',\n",
       " '__eq__',\n",
       " '__format__',\n",
       " '__ge__',\n",
       " '__getattribute__',\n",
       " '__gt__',\n",
       " '__hash__',\n",
       " '__init__',\n",
       " '__init_subclass__',\n",
       " '__le__',\n",
       " '__lt__',\n",
       " '__module__',\n",
       " '__ne__',\n",
       " '__new__',\n",
       " '__reduce__',\n",
       " '__reduce_ex__',\n",
       " '__repr__',\n",
       " '__setattr__',\n",
       " '__sizeof__',\n",
       " '__str__',\n",
       " '__subclasshook__',\n",
       " '__weakref__',\n",
       " 'make',\n",
       " 'model',\n",
       " 'year']"
      ]
     },
     "execution_count": 207,
     "metadata": {},
     "output_type": "execute_result"
    }
   ],
   "source": [
    "class Car():\n",
    "    def __init__(self, make, model, year):\n",
    "        Car.make = make\n",
    "        Car.model = model\n",
    "        Car.year = year\n",
    "\n",
    "andreas_car = Car('Tesla', 'Model S', '2021')\n",
    "print(andreas_car.make)\n",
    "dir(andreas_car)"
   ]
  },
  {
   "cell_type": "markdown",
   "metadata": {},
   "source": [
    "20. Create a class called `Dice` that accepts a single argument called `number_of_dice`. \n",
    "\n",
    "Create an instance method called `roll`. \n",
    "\n",
    "`roll` should randomly pick a number for each die when called and print the results as a list. \n",
    "\n",
    "Create an instance of `Dice`. Then call `roll()` on your instance.\n",
    "\n",
    "Hint: Inside your class create an empty list called `dice`."
   ]
  },
  {
   "cell_type": "code",
   "execution_count": 12,
   "metadata": {},
   "outputs": [
    {
     "name": "stdout",
     "output_type": "stream",
     "text": [
      "3\n"
     ]
    }
   ],
   "source": [
    "  \n",
    "from random import randrange\n",
    "\n",
    "print(randrange(1,7)) # randomly generates a number between 1 and 6\n",
    "\n",
    "class Dice(number_of_dice):"
   ]
  },
  {
   "cell_type": "code",
   "execution_count": null,
   "metadata": {},
   "outputs": [],
   "source": []
  },
  {
   "cell_type": "markdown",
   "metadata": {},
   "source": [
    "Bonus(optional):\n",
    "\n",
    "0. Create a class of your choice.\n",
    "1. Give it instance variables and class variables. \n",
    "2. Give it a classmethod. \n",
    "3. Give it a regular method (instance method).\n",
    "4. Give it a static method. \n",
    "\n",
    "Show how each works by printing an example. "
   ]
  },
  {
   "cell_type": "code",
   "execution_count": 221,
   "metadata": {},
   "outputs": [
    {
     "name": "stdout",
     "output_type": "stream",
     "text": [
      "1\n",
      "4750\n",
      "['Birmingham']\n",
      "Birmingham license renews in April of 2020 for 250 dollars\n",
      "2\n",
      "4425\n",
      "['Birmingham', 'St Louis']\n",
      "St Louis license renews in January of 2020 for 325 dollars\n",
      "BLMS team manager is\n",
      "Andrea Cairns\n"
     ]
    }
   ],
   "source": [
    "#I file business license renewals at my job.  This could be a way to track filings and the costs associated with those filings.\n",
    "\n",
    "class BL2020():\n",
    "    \n",
    "    #class variables\n",
    "    lic_count = 0\n",
    "    buslic_budget = 5000\n",
    "    buslic_onhand = []\n",
    "    \n",
    "    def __init__(self, jurisdiction, renewal_month, renewal_year, renewal_cost):\n",
    "        #instance variables\n",
    "        self.jurisdiction = jurisdiction\n",
    "        self.renewal_month = renewal_month\n",
    "        self.renewal_year = renewal_year\n",
    "        self.renewal_cost = renewal_cost\n",
    "        \n",
    "        #changes to class variables\n",
    "        BL2020.lic_count += 1\n",
    "        BL2020.buslic_budget -= renewal_cost\n",
    "        BL2020.buslic_onhand.append(jurisdiction)\n",
    "        \n",
    "    @classmethod  #class method\n",
    "    def additional_fees(cls, addfees):\n",
    "        cls.buslic_budget -= addfees\n",
    "        \n",
    "    def info(self): #instance method\n",
    "        return f'{self.jurisdiction} license renews in {self.renewal_month} of {self.renewal_year} for {self.renewal_cost} dollars'\n",
    "    \n",
    "    @staticmethod  #static method\n",
    "    def team_manager(man_name):\n",
    "        print(\"BLMS team manager is\")\n",
    "        print(man_name)\n",
    "        \n",
    "\n",
    "license1 = BL2020('Birmingham', 'April', '2020', 250)\n",
    "print(BL2020.lic_count)\n",
    "print(BL2020.buslic_budget)\n",
    "print(BL2020.buslic_onhand)\n",
    "print(license1.info())\n",
    "        \n",
    "license2 = BL2020('St Louis', 'January', '2020', 325)\n",
    "print(BL2020.lic_count)\n",
    "print(BL2020.buslic_budget)\n",
    "print(BL2020.buslic_onhand)\n",
    "print(license2.info())\n",
    "        \n",
    "license1.team_manager(\"Andrea Cairns\")       \n",
    "    "
   ]
  },
  {
   "cell_type": "code",
   "execution_count": null,
   "metadata": {},
   "outputs": [],
   "source": []
  }
 ],
 "metadata": {
  "kernelspec": {
   "display_name": "Python 3 (ipykernel)",
   "language": "python",
   "name": "python3"
  },
  "language_info": {
   "codemirror_mode": {
    "name": "ipython",
    "version": 3
   },
   "file_extension": ".py",
   "mimetype": "text/x-python",
   "name": "python",
   "nbconvert_exporter": "python",
   "pygments_lexer": "ipython3",
   "version": "3.8.10"
  }
 },
 "nbformat": 4,
 "nbformat_minor": 4
}
